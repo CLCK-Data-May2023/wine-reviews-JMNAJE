{
 "cells": [
  {
   "cell_type": "code",
   "execution_count": 1,
   "id": "f3a5677e",
   "metadata": {},
   "outputs": [],
   "source": [
    "import pandas as pd  #first step, importing pandas as pd\n",
    "import os\n",
    "if not os.path.exists('data'):\n",
    "    os.makedirs('data')"
   ]
  },
  {
   "cell_type": "code",
   "execution_count": 4,
   "id": "5299aaa6",
   "metadata": {},
   "outputs": [],
   "source": [
    "df = pd.read_csv(r\"C:\\Users\\josem\\code_lou\\wine_reviews\\wine-reviews-JMNAJE\\data\\winemag-data-130k-v2.csv.zip\", compression='zip', encoding='utf-8', index_col=0)\n",
    "#read the compressed CSV file.  Added \"r\" to the front of the path address."
   ]
  },
  {
   "cell_type": "code",
   "execution_count": 5,
   "id": "79927b6e",
   "metadata": {},
   "outputs": [],
   "source": [
    "grouped = df.groupby('country').agg(\n",
    "    count=pd.NamedAgg(column='title', aggfunc='size'),\n",
    "    points=pd.NamedAgg(column='points', aggfunc='mean')\n",
    ").reset_index()\n",
    "#groups the data by country\n",
    "#aggreates the data in each group\n",
    "#aggreates the comlumn"
   ]
  },
  {
   "cell_type": "code",
   "execution_count": 6,
   "id": "7370f7c4",
   "metadata": {},
   "outputs": [],
   "source": [
    "grouped['points'] = grouped['points'].round(1)\n",
    "#rounds the vlues to 1 decimal place"
   ]
  },
  {
   "cell_type": "code",
   "execution_count": 7,
   "id": "0eed0896",
   "metadata": {},
   "outputs": [],
   "source": [
    "grouped = grouped.rename(columns={'country': 'Country'})\n",
    "#Capitilized the titles "
   ]
  },
  {
   "cell_type": "code",
   "execution_count": 13,
   "id": "ad44d275",
   "metadata": {},
   "outputs": [],
   "source": [
    "grouped.to_csv(r\"C:\\Users\\josem\\code_lou\\wine_reviews\\wine-reviews-JMNAJE\\data\\reviews-per-country.csv\", index=False)\n"
   ]
  },
  {
   "cell_type": "code",
   "execution_count": null,
   "id": "b5d36eb6",
   "metadata": {},
   "outputs": [],
   "source": [
    "print(\"Summary written to data/reviews-per-country.csv!\")"
   ]
  }
 ],
 "metadata": {
  "kernelspec": {
   "display_name": "Python 3 (ipykernel)",
   "language": "python",
   "name": "python3"
  },
  "language_info": {
   "codemirror_mode": {
    "name": "ipython",
    "version": 3
   },
   "file_extension": ".py",
   "mimetype": "text/x-python",
   "name": "python",
   "nbconvert_exporter": "python",
   "pygments_lexer": "ipython3",
   "version": "3.11.4"
  }
 },
 "nbformat": 4,
 "nbformat_minor": 5
}
